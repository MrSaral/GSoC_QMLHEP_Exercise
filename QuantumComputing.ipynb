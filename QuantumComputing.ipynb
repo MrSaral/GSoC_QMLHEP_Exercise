{
  "nbformat": 4,
  "nbformat_minor": 0,
  "metadata": {
    "colab": {
      "name": "QuantumComputing.ipynb",
      "provenance": [],
      "collapsed_sections": [],
      "toc_visible": true,
      "authorship_tag": "ABX9TyN1Mk+0A2joEyLWN3QqWw6v",
      "include_colab_link": true
    },
    "kernelspec": {
      "name": "python3",
      "display_name": "Python 3"
    }
  },
  "cells": [
    {
      "cell_type": "markdown",
      "metadata": {
        "id": "view-in-github",
        "colab_type": "text"
      },
      "source": [
        "<a href=\"https://colab.research.google.com/github/MrSaral/GSoC_QMLHEP_Exercise/blob/master/QuantumComputing.ipynb\" target=\"_parent\"><img src=\"https://colab.research.google.com/assets/colab-badge.svg\" alt=\"Open In Colab\"/></a>"
      ]
    },
    {
      "cell_type": "markdown",
      "metadata": {
        "id": "D92MGH7hq6fj",
        "colab_type": "text"
      },
      "source": [
        "# Introduction"
      ]
    },
    {
      "cell_type": "markdown",
      "metadata": {
        "id": "GKzvM32nq_QO",
        "colab_type": "text"
      },
      "source": [
        "Hello, I am Saral Uttamani, CS Grad student at Stony Brook University. (Class of 2020) This is my submission for the Google Summer of Code QMLHEP coding exercise. There are two tasks, this is the Quantum computing exercise. I have tried to put comments and use variable names which are intiutive. If there are any questions, feel free to reach out on GitHub/LinkedIn."
      ]
    },
    {
      "cell_type": "code",
      "metadata": {
        "id": "4UuAdUZ1J03w",
        "colab_type": "code",
        "outputId": "c42bbadc-230e-4eb4-c0e6-99b7ca3a52aa",
        "colab": {
          "base_uri": "https://localhost:8080/",
          "height": 615
        }
      },
      "source": [
        "pip install cirq"
      ],
      "execution_count": 1,
      "outputs": [
        {
          "output_type": "stream",
          "text": [
            "Requirement already satisfied: cirq in /usr/local/lib/python3.6/dist-packages (0.7.0)\n",
            "Requirement already satisfied: typing-extensions in /usr/local/lib/python3.6/dist-packages (from cirq) (3.6.6)\n",
            "Requirement already satisfied: numpy~=1.16 in /usr/local/lib/python3.6/dist-packages (from cirq) (1.18.1)\n",
            "Requirement already satisfied: sortedcontainers~=2.0 in /usr/local/lib/python3.6/dist-packages (from cirq) (2.1.0)\n",
            "Requirement already satisfied: matplotlib~=3.0 in /usr/local/lib/python3.6/dist-packages (from cirq) (3.2.0)\n",
            "Requirement already satisfied: google-api-python-client~=1.6 in /usr/local/lib/python3.6/dist-packages (from cirq) (1.7.11)\n",
            "Requirement already satisfied: dataclasses; python_version < \"3.7\" in /usr/local/lib/python3.6/dist-packages (from cirq) (0.7)\n",
            "Requirement already satisfied: scipy in /usr/local/lib/python3.6/dist-packages (from cirq) (1.4.1)\n",
            "Requirement already satisfied: sympy==1.4 in /usr/local/lib/python3.6/dist-packages (from cirq) (1.4)\n",
            "Requirement already satisfied: pandas in /usr/local/lib/python3.6/dist-packages (from cirq) (0.25.3)\n",
            "Requirement already satisfied: networkx==2.3 in /usr/local/lib/python3.6/dist-packages (from cirq) (2.3)\n",
            "Requirement already satisfied: requests~=2.18 in /usr/local/lib/python3.6/dist-packages (from cirq) (2.21.0)\n",
            "Requirement already satisfied: protobuf==3.8.0 in /usr/local/lib/python3.6/dist-packages (from cirq) (3.8.0)\n",
            "Requirement already satisfied: cycler>=0.10 in /usr/local/lib/python3.6/dist-packages (from matplotlib~=3.0->cirq) (0.10.0)\n",
            "Requirement already satisfied: kiwisolver>=1.0.1 in /usr/local/lib/python3.6/dist-packages (from matplotlib~=3.0->cirq) (1.1.0)\n",
            "Requirement already satisfied: python-dateutil>=2.1 in /usr/local/lib/python3.6/dist-packages (from matplotlib~=3.0->cirq) (2.8.1)\n",
            "Requirement already satisfied: pyparsing!=2.0.4,!=2.1.2,!=2.1.6,>=2.0.1 in /usr/local/lib/python3.6/dist-packages (from matplotlib~=3.0->cirq) (2.4.6)\n",
            "Requirement already satisfied: google-auth-httplib2>=0.0.3 in /usr/local/lib/python3.6/dist-packages (from google-api-python-client~=1.6->cirq) (0.0.3)\n",
            "Requirement already satisfied: six<2dev,>=1.6.1 in /usr/local/lib/python3.6/dist-packages (from google-api-python-client~=1.6->cirq) (1.12.0)\n",
            "Requirement already satisfied: httplib2<1dev,>=0.9.2 in /usr/local/lib/python3.6/dist-packages (from google-api-python-client~=1.6->cirq) (0.11.3)\n",
            "Requirement already satisfied: uritemplate<4dev,>=3.0.0 in /usr/local/lib/python3.6/dist-packages (from google-api-python-client~=1.6->cirq) (3.0.1)\n",
            "Requirement already satisfied: google-auth>=1.4.1 in /usr/local/lib/python3.6/dist-packages (from google-api-python-client~=1.6->cirq) (1.7.2)\n",
            "Requirement already satisfied: mpmath>=0.19 in /usr/local/lib/python3.6/dist-packages (from sympy==1.4->cirq) (1.1.0)\n",
            "Requirement already satisfied: pytz>=2017.2 in /usr/local/lib/python3.6/dist-packages (from pandas->cirq) (2018.9)\n",
            "Requirement already satisfied: decorator>=4.3.0 in /usr/local/lib/python3.6/dist-packages (from networkx==2.3->cirq) (4.4.2)\n",
            "Requirement already satisfied: certifi>=2017.4.17 in /usr/local/lib/python3.6/dist-packages (from requests~=2.18->cirq) (2019.11.28)\n",
            "Requirement already satisfied: idna<2.9,>=2.5 in /usr/local/lib/python3.6/dist-packages (from requests~=2.18->cirq) (2.8)\n",
            "Requirement already satisfied: urllib3<1.25,>=1.21.1 in /usr/local/lib/python3.6/dist-packages (from requests~=2.18->cirq) (1.24.3)\n",
            "Requirement already satisfied: chardet<3.1.0,>=3.0.2 in /usr/local/lib/python3.6/dist-packages (from requests~=2.18->cirq) (3.0.4)\n",
            "Requirement already satisfied: setuptools in /usr/local/lib/python3.6/dist-packages (from protobuf==3.8.0->cirq) (45.2.0)\n",
            "Requirement already satisfied: rsa<4.1,>=3.1.4 in /usr/local/lib/python3.6/dist-packages (from google-auth>=1.4.1->google-api-python-client~=1.6->cirq) (4.0)\n",
            "Requirement already satisfied: pyasn1-modules>=0.2.1 in /usr/local/lib/python3.6/dist-packages (from google-auth>=1.4.1->google-api-python-client~=1.6->cirq) (0.2.8)\n",
            "Requirement already satisfied: cachetools<3.2,>=2.0.0 in /usr/local/lib/python3.6/dist-packages (from google-auth>=1.4.1->google-api-python-client~=1.6->cirq) (3.1.1)\n",
            "Requirement already satisfied: pyasn1>=0.1.3 in /usr/local/lib/python3.6/dist-packages (from rsa<4.1,>=3.1.4->google-auth>=1.4.1->google-api-python-client~=1.6->cirq) (0.4.8)\n"
          ],
          "name": "stdout"
        }
      ]
    },
    {
      "cell_type": "code",
      "metadata": {
        "id": "KB5f_Ri1J4hd",
        "colab_type": "code",
        "colab": {}
      },
      "source": [
        "import cirq\n",
        "import numpy as np\n",
        "import matplotlib.pyplot as plt"
      ],
      "execution_count": 0,
      "outputs": []
    },
    {
      "cell_type": "markdown",
      "metadata": {
        "id": "37aELnZrZ_sV",
        "colab_type": "text"
      },
      "source": [
        "# Task 1"
      ]
    },
    {
      "cell_type": "code",
      "metadata": {
        "id": "-hx_MS9_KDzg",
        "colab_type": "code",
        "colab": {}
      },
      "source": [
        "circuit = cirq.Circuit()"
      ],
      "execution_count": 0,
      "outputs": []
    },
    {
      "cell_type": "code",
      "metadata": {
        "id": "oTKcKfhjKdwJ",
        "colab_type": "code",
        "colab": {}
      },
      "source": [
        "qubits= cirq.LineQubit.range(5)"
      ],
      "execution_count": 0,
      "outputs": []
    },
    {
      "cell_type": "code",
      "metadata": {
        "id": "imn-mqSBLDNb",
        "colab_type": "code",
        "colab": {}
      },
      "source": [
        "for i in qubits:\n",
        "  circuit.append(cirq.H(i))"
      ],
      "execution_count": 0,
      "outputs": []
    },
    {
      "cell_type": "code",
      "metadata": {
        "id": "n1GHTb8PLOzm",
        "colab_type": "code",
        "colab": {}
      },
      "source": [
        "circuit.append(cirq.CNOT(qubits[0],qubits[1]))\n",
        "circuit.append(cirq.CNOT(qubits[1],qubits[2]))\n",
        "circuit.append(cirq.CNOT(qubits[2],qubits[3]))\n",
        "circuit.append(cirq.CNOT(qubits[3],qubits[4]))\n"
      ],
      "execution_count": 0,
      "outputs": []
    },
    {
      "cell_type": "code",
      "metadata": {
        "id": "0yZVJdBhPSjU",
        "colab_type": "code",
        "colab": {}
      },
      "source": [
        "circuit.append(cirq.SWAP(qubits[0],qubits[4]))"
      ],
      "execution_count": 0,
      "outputs": []
    },
    {
      "cell_type": "code",
      "metadata": {
        "id": "PAWm71ckaIcq",
        "colab_type": "code",
        "colab": {}
      },
      "source": [
        "#The next task is to rotateX by pi/2, but since it is not mentioned on which\n",
        "#qubit, I am gonna assume we have to apply it on all qubits.\n",
        "\n",
        "for i in qubits:\n",
        "  circuit.append(cirq.rx(np.pi/2).on(i))"
      ],
      "execution_count": 0,
      "outputs": []
    },
    {
      "cell_type": "code",
      "metadata": {
        "id": "pyvgtB7PKkaI",
        "colab_type": "code",
        "outputId": "55ee72d7-54a3-4cb9-a283-38ccf103b6db",
        "colab": {
          "base_uri": "https://localhost:8080/",
          "height": 204
        }
      },
      "source": [
        "print(circuit)"
      ],
      "execution_count": 38,
      "outputs": [
        {
          "output_type": "stream",
          "text": [
            "                                        ┌─────────┐\n",
            "0: ───H───@──────────────────────────────×────────────Rx(0.5π)───\n",
            "          │                              │\n",
            "1: ───H───X───@───Rx(0.5π)───────────────┼───────────────────────\n",
            "              │                          │\n",
            "2: ───H───────X───@──────────Rx(0.5π)────┼───────────────────────\n",
            "                  │                      │\n",
            "3: ───H───────────X──────────@───────────┼Rx(0.5π)───────────────\n",
            "                             │           │\n",
            "4: ───H──────────────────────X───────────×────────────Rx(0.5π)───\n",
            "                                        └─────────┘\n"
          ],
          "name": "stdout"
        }
      ]
    },
    {
      "cell_type": "markdown",
      "metadata": {
        "id": "PcDQ-iRaeJ1_",
        "colab_type": "text"
      },
      "source": [
        "# Task 2"
      ]
    },
    {
      "cell_type": "code",
      "metadata": {
        "id": "D2YtY5otiRRj",
        "colab_type": "code",
        "colab": {}
      },
      "source": [
        "def rotate(i=0,runs=10):\n",
        "  circuit2 = cirq.Circuit()\n",
        "  qubit=cirq.LineQubit.range(1)\n",
        "  circuit2.append(cirq.rx(i).on(qubit[0]))\n",
        "  circuit2.append(cirq.measure(qubit[0]))\n",
        "  sim = cirq.Simulator()\n",
        "  results=sim.run(circuit2, repetitions=runs)\n",
        "  print ('For i= %.2f'%i)\n",
        "  print (circuit2)\n",
        "  count=0\n",
        "  for k in np.array(results.data):\n",
        "    if(k==0):\n",
        "      count+=1\n",
        "\n",
        "  p=count/runs\n",
        "  print('Probability of |0> state =',p)\n",
        "  print('=============End of Iterations=============')\n",
        "  return p"
      ],
      "execution_count": 0,
      "outputs": []
    },
    {
      "cell_type": "code",
      "metadata": {
        "id": "5tZGpHK6ksMg",
        "colab_type": "code",
        "colab": {
          "base_uri": "https://localhost:8080/",
          "height": 1000
        },
        "outputId": "42a46a48-bdc5-4d49-f3bc-f51c55893601"
      },
      "source": [
        "prob=[]\n",
        "for i in np.arange(0, 9, 0.1):\n",
        "  prob.append(rotate(i,1000))"
      ],
      "execution_count": 133,
      "outputs": [
        {
          "output_type": "stream",
          "text": [
            "For i= 0.00\n",
            "0: ───Rx(0.0π)───M───\n",
            "Probability of |0> state = 1.0\n",
            "=============End of Iterations=============\n",
            "For i= 0.10\n",
            "0: ───Rx(0.032π)───M───\n",
            "Probability of |0> state = 0.996\n",
            "=============End of Iterations=============\n",
            "For i= 0.20\n",
            "0: ───Rx(0.064π)───M───\n",
            "Probability of |0> state = 0.994\n",
            "=============End of Iterations=============\n",
            "For i= 0.30\n",
            "0: ───Rx(0.095π)───M───\n",
            "Probability of |0> state = 0.977\n",
            "=============End of Iterations=============\n",
            "For i= 0.40\n",
            "0: ───Rx(0.127π)───M───\n",
            "Probability of |0> state = 0.967\n",
            "=============End of Iterations=============\n",
            "For i= 0.50\n",
            "0: ───Rx(0.159π)───M───\n",
            "Probability of |0> state = 0.935\n",
            "=============End of Iterations=============\n",
            "For i= 0.60\n",
            "0: ───Rx(0.191π)───M───\n",
            "Probability of |0> state = 0.916\n",
            "=============End of Iterations=============\n",
            "For i= 0.70\n",
            "0: ───Rx(0.223π)───M───\n",
            "Probability of |0> state = 0.874\n",
            "=============End of Iterations=============\n",
            "For i= 0.80\n",
            "0: ───Rx(0.255π)───M───\n",
            "Probability of |0> state = 0.869\n",
            "=============End of Iterations=============\n",
            "For i= 0.90\n",
            "0: ───Rx(0.286π)───M───\n",
            "Probability of |0> state = 0.82\n",
            "=============End of Iterations=============\n",
            "For i= 1.00\n",
            "0: ───Rx(0.318π)───M───\n",
            "Probability of |0> state = 0.756\n",
            "=============End of Iterations=============\n",
            "For i= 1.10\n",
            "0: ───Rx(0.35π)───M───\n",
            "Probability of |0> state = 0.744\n",
            "=============End of Iterations=============\n",
            "For i= 1.20\n",
            "0: ───Rx(0.382π)───M───\n",
            "Probability of |0> state = 0.732\n",
            "=============End of Iterations=============\n",
            "For i= 1.30\n",
            "0: ───Rx(0.414π)───M───\n",
            "Probability of |0> state = 0.64\n",
            "=============End of Iterations=============\n",
            "For i= 1.40\n",
            "0: ───Rx(0.446π)───M───\n",
            "Probability of |0> state = 0.604\n",
            "=============End of Iterations=============\n",
            "For i= 1.50\n",
            "0: ───Rx(0.477π)───M───\n",
            "Probability of |0> state = 0.518\n",
            "=============End of Iterations=============\n",
            "For i= 1.60\n",
            "0: ───Rx(0.509π)───M───\n",
            "Probability of |0> state = 0.49\n",
            "=============End of Iterations=============\n",
            "For i= 1.70\n",
            "0: ───Rx(0.541π)───M───\n",
            "Probability of |0> state = 0.438\n",
            "=============End of Iterations=============\n",
            "For i= 1.80\n",
            "0: ───Rx(0.573π)───M───\n",
            "Probability of |0> state = 0.39\n",
            "=============End of Iterations=============\n",
            "For i= 1.90\n",
            "0: ───Rx(0.605π)───M───\n",
            "Probability of |0> state = 0.342\n",
            "=============End of Iterations=============\n",
            "For i= 2.00\n",
            "0: ───Rx(0.637π)───M───\n",
            "Probability of |0> state = 0.295\n",
            "=============End of Iterations=============\n",
            "For i= 2.10\n",
            "0: ───Rx(0.668π)───M───\n",
            "Probability of |0> state = 0.228\n",
            "=============End of Iterations=============\n",
            "For i= 2.20\n",
            "0: ───Rx(0.7π)───M───\n",
            "Probability of |0> state = 0.207\n",
            "=============End of Iterations=============\n",
            "For i= 2.30\n",
            "0: ───Rx(0.732π)───M───\n",
            "Probability of |0> state = 0.181\n",
            "=============End of Iterations=============\n",
            "For i= 2.40\n",
            "0: ───Rx(0.764π)───M───\n",
            "Probability of |0> state = 0.129\n",
            "=============End of Iterations=============\n",
            "For i= 2.50\n",
            "0: ───Rx(0.796π)───M───\n",
            "Probability of |0> state = 0.092\n",
            "=============End of Iterations=============\n",
            "For i= 2.60\n",
            "0: ───Rx(0.828π)───M───\n",
            "Probability of |0> state = 0.074\n",
            "=============End of Iterations=============\n",
            "For i= 2.70\n",
            "0: ───Rx(0.859π)───M───\n",
            "Probability of |0> state = 0.057\n",
            "=============End of Iterations=============\n",
            "For i= 2.80\n",
            "0: ───Rx(0.891π)───M───\n",
            "Probability of |0> state = 0.032\n",
            "=============End of Iterations=============\n",
            "For i= 2.90\n",
            "0: ───Rx(0.923π)───M───\n",
            "Probability of |0> state = 0.02\n",
            "=============End of Iterations=============\n",
            "For i= 3.00\n",
            "0: ───Rx(0.955π)───M───\n",
            "Probability of |0> state = 0.004\n",
            "=============End of Iterations=============\n",
            "For i= 3.10\n",
            "0: ───Rx(0.987π)───M───\n",
            "Probability of |0> state = 0.0\n",
            "=============End of Iterations=============\n",
            "For i= 3.20\n",
            "0: ───Rx(1.019π)───M───\n",
            "Probability of |0> state = 0.001\n",
            "=============End of Iterations=============\n",
            "For i= 3.30\n",
            "0: ───Rx(1.05π)───M───\n",
            "Probability of |0> state = 0.004\n",
            "=============End of Iterations=============\n",
            "For i= 3.40\n",
            "0: ───Rx(1.082π)───M───\n",
            "Probability of |0> state = 0.017\n",
            "=============End of Iterations=============\n",
            "For i= 3.50\n",
            "0: ───Rx(1.114π)───M───\n",
            "Probability of |0> state = 0.038\n",
            "=============End of Iterations=============\n",
            "For i= 3.60\n",
            "0: ───Rx(1.146π)───M───\n",
            "Probability of |0> state = 0.066\n",
            "=============End of Iterations=============\n",
            "For i= 3.70\n",
            "0: ───Rx(1.178π)───M───\n",
            "Probability of |0> state = 0.086\n",
            "=============End of Iterations=============\n",
            "For i= 3.80\n",
            "0: ───Rx(1.21π)───M───\n",
            "Probability of |0> state = 0.114\n",
            "=============End of Iterations=============\n",
            "For i= 3.90\n",
            "0: ───Rx(1.241π)───M───\n",
            "Probability of |0> state = 0.143\n",
            "=============End of Iterations=============\n",
            "For i= 4.00\n",
            "0: ───Rx(1.273π)───M───\n",
            "Probability of |0> state = 0.183\n",
            "=============End of Iterations=============\n",
            "For i= 4.10\n",
            "0: ───Rx(1.305π)───M───\n",
            "Probability of |0> state = 0.216\n",
            "=============End of Iterations=============\n",
            "For i= 4.20\n",
            "0: ───Rx(1.337π)───M───\n",
            "Probability of |0> state = 0.249\n",
            "=============End of Iterations=============\n",
            "For i= 4.30\n",
            "0: ───Rx(1.369π)───M───\n",
            "Probability of |0> state = 0.296\n",
            "=============End of Iterations=============\n",
            "For i= 4.40\n",
            "0: ───Rx(1.401π)───M───\n",
            "Probability of |0> state = 0.354\n",
            "=============End of Iterations=============\n",
            "For i= 4.50\n",
            "0: ───Rx(1.432π)───M───\n",
            "Probability of |0> state = 0.4\n",
            "=============End of Iterations=============\n",
            "For i= 4.60\n",
            "0: ───Rx(1.464π)───M───\n",
            "Probability of |0> state = 0.417\n",
            "=============End of Iterations=============\n",
            "For i= 4.70\n",
            "0: ───Rx(1.496π)───M───\n",
            "Probability of |0> state = 0.493\n",
            "=============End of Iterations=============\n",
            "For i= 4.80\n",
            "0: ───Rx(1.528π)───M───\n",
            "Probability of |0> state = 0.571\n",
            "=============End of Iterations=============\n",
            "For i= 4.90\n",
            "0: ───Rx(1.56π)───M───\n",
            "Probability of |0> state = 0.568\n",
            "=============End of Iterations=============\n",
            "For i= 5.00\n",
            "0: ───Rx(1.592π)───M───\n",
            "Probability of |0> state = 0.634\n",
            "=============End of Iterations=============\n",
            "For i= 5.10\n",
            "0: ───Rx(1.623π)───M───\n",
            "Probability of |0> state = 0.694\n",
            "=============End of Iterations=============\n",
            "For i= 5.20\n",
            "0: ───Rx(1.655π)───M───\n",
            "Probability of |0> state = 0.729\n",
            "=============End of Iterations=============\n",
            "For i= 5.30\n",
            "0: ───Rx(1.687π)───M───\n",
            "Probability of |0> state = 0.801\n",
            "=============End of Iterations=============\n",
            "For i= 5.40\n",
            "0: ───Rx(1.719π)───M───\n",
            "Probability of |0> state = 0.815\n",
            "=============End of Iterations=============\n",
            "For i= 5.50\n",
            "0: ───Rx(1.751π)───M───\n",
            "Probability of |0> state = 0.858\n",
            "=============End of Iterations=============\n",
            "For i= 5.60\n",
            "0: ───Rx(1.783π)───M───\n",
            "Probability of |0> state = 0.879\n",
            "=============End of Iterations=============\n",
            "For i= 5.70\n",
            "0: ───Rx(1.814π)───M───\n",
            "Probability of |0> state = 0.916\n",
            "=============End of Iterations=============\n",
            "For i= 5.80\n",
            "0: ───Rx(1.846π)───M───\n",
            "Probability of |0> state = 0.94\n",
            "=============End of Iterations=============\n",
            "For i= 5.90\n",
            "0: ───Rx(1.878π)───M───\n",
            "Probability of |0> state = 0.976\n",
            "=============End of Iterations=============\n",
            "For i= 6.00\n",
            "0: ───Rx(1.91π)───M───\n",
            "Probability of |0> state = 0.983\n",
            "=============End of Iterations=============\n",
            "For i= 6.10\n",
            "0: ───Rx(1.942π)───M───\n",
            "Probability of |0> state = 0.981\n",
            "=============End of Iterations=============\n",
            "For i= 6.20\n",
            "0: ───Rx(1.974π)───M───\n",
            "Probability of |0> state = 0.998\n",
            "=============End of Iterations=============\n",
            "For i= 6.30\n",
            "0: ───Rx(-1.995π)───M───\n",
            "Probability of |0> state = 1.0\n",
            "=============End of Iterations=============\n",
            "For i= 6.40\n",
            "0: ───Rx(-1.963π)───M───\n",
            "Probability of |0> state = 0.995\n",
            "=============End of Iterations=============\n",
            "For i= 6.50\n",
            "0: ───Rx(-1.931π)───M───\n",
            "Probability of |0> state = 0.984\n",
            "=============End of Iterations=============\n",
            "For i= 6.60\n",
            "0: ───Rx(-1.899π)───M───\n",
            "Probability of |0> state = 0.977\n",
            "=============End of Iterations=============\n",
            "For i= 6.70\n",
            "0: ───Rx(-1.867π)───M───\n",
            "Probability of |0> state = 0.952\n",
            "=============End of Iterations=============\n",
            "For i= 6.80\n",
            "0: ───Rx(-1.835π)───M───\n",
            "Probability of |0> state = 0.934\n",
            "=============End of Iterations=============\n",
            "For i= 6.90\n",
            "0: ───Rx(-1.8039999999999998π)───M───\n",
            "Probability of |0> state = 0.904\n",
            "=============End of Iterations=============\n",
            "For i= 7.00\n",
            "0: ───Rx(-1.7719999999999998π)───M───\n",
            "Probability of |0> state = 0.87\n",
            "=============End of Iterations=============\n",
            "For i= 7.10\n",
            "0: ───Rx(-1.7400000000000002π)───M───\n",
            "Probability of |0> state = 0.842\n",
            "=============End of Iterations=============\n",
            "For i= 7.20\n",
            "0: ───Rx(-1.7080000000000002π)───M───\n",
            "Probability of |0> state = 0.818\n",
            "=============End of Iterations=============\n",
            "For i= 7.30\n",
            "0: ───Rx(-1.6760000000000002π)───M───\n",
            "Probability of |0> state = 0.772\n",
            "=============End of Iterations=============\n",
            "For i= 7.40\n",
            "0: ───Rx(-1.645π)───M───\n",
            "Probability of |0> state = 0.727\n",
            "=============End of Iterations=============\n",
            "For i= 7.50\n",
            "0: ───Rx(-1.613π)───M───\n",
            "Probability of |0> state = 0.667\n",
            "=============End of Iterations=============\n",
            "For i= 7.60\n",
            "0: ───Rx(-1.581π)───M───\n",
            "Probability of |0> state = 0.61\n",
            "=============End of Iterations=============\n",
            "For i= 7.70\n",
            "0: ───Rx(-1.549π)───M───\n",
            "Probability of |0> state = 0.572\n",
            "=============End of Iterations=============\n",
            "For i= 7.80\n",
            "0: ───Rx(-1.517π)───M───\n",
            "Probability of |0> state = 0.54\n",
            "=============End of Iterations=============\n",
            "For i= 7.90\n",
            "0: ───Rx(-1.4849999999999999π)───M───\n",
            "Probability of |0> state = 0.486\n",
            "=============End of Iterations=============\n",
            "For i= 8.00\n",
            "0: ───Rx(-1.4540000000000002π)───M───\n",
            "Probability of |0> state = 0.423\n",
            "=============End of Iterations=============\n",
            "For i= 8.10\n",
            "0: ───Rx(-1.4220000000000002π)───M───\n",
            "Probability of |0> state = 0.37\n",
            "=============End of Iterations=============\n",
            "For i= 8.20\n",
            "0: ───Rx(-1.3900000000000001π)───M───\n",
            "Probability of |0> state = 0.328\n",
            "=============End of Iterations=============\n",
            "For i= 8.30\n",
            "0: ───Rx(-1.358π)───M───\n",
            "Probability of |0> state = 0.282\n",
            "=============End of Iterations=============\n",
            "For i= 8.40\n",
            "0: ───Rx(-1.326π)───M───\n",
            "Probability of |0> state = 0.227\n",
            "=============End of Iterations=============\n",
            "For i= 8.50\n",
            "0: ───Rx(-1.294π)───M───\n",
            "Probability of |0> state = 0.198\n",
            "=============End of Iterations=============\n",
            "For i= 8.60\n",
            "0: ───Rx(-1.263π)───M───\n",
            "Probability of |0> state = 0.174\n",
            "=============End of Iterations=============\n",
            "For i= 8.70\n",
            "0: ───Rx(-1.2309999999999999π)───M───\n",
            "Probability of |0> state = 0.121\n",
            "=============End of Iterations=============\n",
            "For i= 8.80\n",
            "0: ───Rx(-1.1989999999999998π)───M───\n",
            "Probability of |0> state = 0.081\n",
            "=============End of Iterations=============\n",
            "For i= 8.90\n",
            "0: ───Rx(-1.1669999999999998π)───M───\n",
            "Probability of |0> state = 0.07\n",
            "=============End of Iterations=============\n"
          ],
          "name": "stdout"
        }
      ]
    },
    {
      "cell_type": "code",
      "metadata": {
        "id": "mFYsdpfwkwyw",
        "colab_type": "code",
        "colab": {
          "base_uri": "https://localhost:8080/",
          "height": 279
        },
        "outputId": "9763f8b8-73b8-492f-b342-8fb2c610e8d9"
      },
      "source": [
        "#For 20 iterations\n",
        "plt.plot(prob)\n",
        "plt.xlabel('Value of Theta *100')\n",
        "plt.ylabel('Probability of |0>')\n",
        "plt.show() "
      ],
      "execution_count": 132,
      "outputs": [
        {
          "output_type": "display_data",
          "data": {
            "image/png": "[encoded data removed]",
            "text/plain": [
              "<Figure size 432x288 with 1 Axes>"
            ]
          },
          "metadata": {
            "tags": []
          }
        }
      ]
    },
    {
      "cell_type": "code",
      "metadata": {
        "id": "adp_NWy7oCYU",
        "colab_type": "code",
        "colab": {
          "base_uri": "https://localhost:8080/",
          "height": 279
        },
        "outputId": "dac990ef-9101-49bc-a03e-6396f3dc0b13"
      },
      "source": [
        "#For 1000 iterations\n",
        "plt.plot(prob)\n",
        "plt.xlabel('Value of Theta *100')\n",
        "plt.ylabel('Probability of |0>')\n",
        "plt.show() "
      ],
      "execution_count": 134,
      "outputs": [
        {
          "output_type": "display_data",
          "data": {
            "image/png": "[encoded data removed]",
            "text/plain": [
              "<Figure size 432x288 with 1 Axes>"
            ]
          },
          "metadata": {
            "tags": []
          }
        }
      ]
    },
    {
      "cell_type": "code",
      "metadata": {
        "id": "g-PH_mZTpwYQ",
        "colab_type": "code",
        "colab": {
          "base_uri": "https://localhost:8080/",
          "height": 279
        },
        "outputId": "1e27870e-3810-4c61-ad2d-28d2dda0cd44"
      },
      "source": [
        "#For 8124 iterations\n",
        "plt.plot(prob)\n",
        "plt.xlabel('Value of Theta *100')\n",
        "plt.ylabel('Probability of |0>')\n",
        "plt.show() "
      ],
      "execution_count": 130,
      "outputs": [
        {
          "output_type": "display_data",
          "data": {
            "image/png": "[encoded data removed]",
            "text/plain": [
              "<Figure size 432x288 with 1 Axes>"
            ]
          },
          "metadata": {
            "tags": []
          }
        }
      ]
    },
    {
      "cell_type": "markdown",
      "metadata": {
        "id": "kjqLMraprk4f",
        "colab_type": "text"
      },
      "source": [
        "# Conclusion"
      ]
    },
    {
      "cell_type": "markdown",
      "metadata": {
        "id": "ZhjuOInNrkci",
        "colab_type": "text"
      },
      "source": [
        "I performed the circuit drawing task 1 and task 2 to plot the probability of |0> state as value of Rx rotation is increased by 0.1.\n",
        "\n",
        "This was as per my interpretation of the question. I hope this analysis helps, please feel free to contact me for any questions/concerns."
      ]
    }
  ]
}