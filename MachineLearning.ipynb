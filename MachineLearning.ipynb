{
  "nbformat": 4,
  "nbformat_minor": 0,
  "metadata": {
    "colab": {
      "name": "MachineLearning.ipynb",
      "provenance": [],
      "collapsed_sections": [],
      "toc_visible": true,
      "mount_file_id": "12g4IDN1KfYTNwoAWkz3agrC1dlGovNHW",
      "authorship_tag": "ABX9TyNkOdzQzM4I1+5+yPqOxbBd",
      "include_colab_link": true
    },
    "kernelspec": {
      "name": "python3",
      "display_name": "Python 3"
    }
  },
  "cells": [
    {
      "cell_type": "markdown",
      "metadata": {
        "id": "view-in-github",
        "colab_type": "text"
      },
      "source": [
        "<a href=\"https://colab.research.google.com/github/MrSaral/GSoC_QMLHEP_Exercise/blob/master/MachineLearning.ipynb\" target=\"_parent\"><img src=\"https://colab.research.google.com/assets/colab-badge.svg\" alt=\"Open In Colab\"/></a>"
      ]
    },
    {
      "cell_type": "markdown",
      "metadata": {
        "id": "bKGsT_vpVrFJ",
        "colab_type": "text"
      },
      "source": [
        "# Introduction\n"
      ]
    },
    {
      "cell_type": "markdown",
      "metadata": {
        "id": "8hY5gLE1Vw1y",
        "colab_type": "text"
      },
      "source": [
        "Hello, I am Saral Uttamani, CS Grad student at Stony Brook University. (Class of 2020) This is my submission for the Google Summer of Code QMLHEP coding exercise. There are two tasks, this is the machine learning exercise. I have tried to put comments and use variable names which are intiutive. If there are any questions, feel free to reach out on GitHub/LinkedIn."
      ]
    },
    {
      "cell_type": "markdown",
      "metadata": {
        "id": "cfp81a050Wsp",
        "colab_type": "text"
      },
      "source": [
        "# Data Loading\n"
      ]
    },
    {
      "cell_type": "code",
      "metadata": {
        "id": "tf2l3cd8BwV1",
        "colab_type": "code",
        "colab": {
          "base_uri": "https://localhost:8080/",
          "height": 34
        },
        "outputId": "964a3968-1c68-4081-e383-65ab4cae5af2"
      },
      "source": [
        "#Location of the data file\n",
        "cd drive/My\\ Drive/Colab\\ Notebooks/GSoC_QML/data"
      ],
      "execution_count": 1,
      "outputs": [
        {
          "output_type": "stream",
          "text": [
            "/content/drive/My Drive/Colab Notebooks/GSoC_QML/data\n"
          ],
          "name": "stdout"
        }
      ]
    },
    {
      "cell_type": "code",
      "metadata": {
        "id": "GFx-ghZkEcvA",
        "colab_type": "code",
        "colab": {
          "base_uri": "https://localhost:8080/",
          "height": 34
        },
        "outputId": "bffb3fb5-aa4e-423e-881c-00356a1c6726"
      },
      "source": [
        "ls"
      ],
      "execution_count": 2,
      "outputs": [
        {
          "output_type": "stream",
          "text": [
            "test_input.npy  training_input.npy\n"
          ],
          "name": "stdout"
        }
      ]
    },
    {
      "cell_type": "code",
      "metadata": {
        "id": "Nea1BGlBFDEn",
        "colab_type": "code",
        "colab": {}
      },
      "source": [
        "#Libraries\n",
        "import numpy as np\n",
        "import pandas as pd\n",
        "import collections\n",
        "from sklearn.utils import shuffle\n",
        "from sklearn.linear_model import LogisticRegression\n",
        "from sklearn import metrics\n",
        "from sklearn.tree import DecisionTreeClassifier\n",
        "from sklearn.ensemble import RandomForestClassifier\n",
        "from sklearn.linear_model import SGDClassifier\n",
        "from sklearn.svm import SVC\n",
        "from sklearn.naive_bayes import GaussianNB\n",
        "from xgboost import XGBClassifier\n",
        "from sklearn import preprocessing\n",
        "from sklearn.ensemble import AdaBoostClassifier\n",
        "import seaborn as sns\n",
        "import matplotlib.pyplot as plt\n"
      ],
      "execution_count": 0,
      "outputs": []
    },
    {
      "cell_type": "code",
      "metadata": {
        "id": "UuOxUxwnEgmF",
        "colab_type": "code",
        "colab": {}
      },
      "source": [
        "#Data loading\n",
        "train_data = np.load('training_input.npy',allow_pickle=True)\n",
        "test_data = np.load('test_input.npy', allow_pickle=True)"
      ],
      "execution_count": 0,
      "outputs": []
    },
    {
      "cell_type": "markdown",
      "metadata": {
        "id": "Eyns2X200c-i",
        "colab_type": "text"
      },
      "source": [
        "# Data Preprocessing and Feature Engineering"
      ]
    },
    {
      "cell_type": "code",
      "metadata": {
        "id": "HqEfYc4MFStP",
        "colab_type": "code",
        "colab": {}
      },
      "source": [
        "#Converting to Numpy array format\n",
        "X=np.append(pd.DataFrame(train_data[()]['0']).values,pd.DataFrame(train_data[()]['1']).values,axis=0)"
      ],
      "execution_count": 0,
      "outputs": []
    },
    {
      "cell_type": "code",
      "metadata": {
        "id": "Fzm6cA9AxsGw",
        "colab_type": "code",
        "colab": {}
      },
      "source": [
        "X_test=np.append(pd.DataFrame(test_data[()]['0']).values,pd.DataFrame(test_data[()]['1']).values,axis=0)"
      ],
      "execution_count": 0,
      "outputs": []
    },
    {
      "cell_type": "code",
      "metadata": {
        "id": "TgBh9982GhmD",
        "colab_type": "code",
        "colab": {
          "base_uri": "https://localhost:8080/",
          "height": 1000
        },
        "outputId": "80ade72a-7209-4e7f-c64d-b8d17cc10a51"
      },
      "source": [
        "X"
      ],
      "execution_count": 625,
      "outputs": [
        {
          "output_type": "execute_result",
          "data": {
            "text/plain": [
              "array([[-0.43079088,  0.86834819, -0.92614721, -0.92662029, -0.56900862],\n",
              "       [ 0.33924198,  0.56155499,  0.93097459, -0.91631726, -0.54463516],\n",
              "       [-0.42888879,  0.87064961, -0.92782179, -0.77533991, -0.58329176],\n",
              "       [-0.43262871,  0.86128919, -0.92240878, -0.88048862, -0.49963115],\n",
              "       [-0.99925345, -0.99949586,  0.07753685, -0.84218034, -0.5149399 ],\n",
              "       [-0.99631106, -0.99775978,  0.0756427 , -0.54117216, -0.66299335],\n",
              "       [-0.42645921,  0.87141204, -0.92908723, -0.52650143, -0.62187526],\n",
              "       [ 0.34317906,  0.57125045,  0.92638556, -0.85113425, -0.40170562],\n",
              "       [-0.99904849, -0.99933931,  0.07737929, -0.81161066, -0.53550246],\n",
              "       [ 0.3371327 ,  0.55874622,  0.92996976, -0.9117092 , -0.50996097],\n",
              "       [ 0.89649306, -0.95523176, -0.66298651, -0.71276678, -0.62698893],\n",
              "       [ 0.34293232,  0.56408047,  0.93448436, -0.88789589, -0.56154273],\n",
              "       [-0.43055876,  0.86615566, -0.92532229, -0.82531102, -0.61433506],\n",
              "       [ 0.33970589,  0.56676702,  0.92567667, -0.91562035, -0.5946945 ],\n",
              "       [-0.99924224, -0.99951208,  0.07752116, -0.8360764 , -0.56981171],\n",
              "       [-0.43099755,  0.86651251, -0.925269  , -0.86698757, -0.5334677 ],\n",
              "       [-0.99937446, -0.99960218,  0.07759084, -0.84990046, -0.57999577],\n",
              "       [-0.99889821, -0.99925173,  0.07726642, -0.78825187, -0.58779546],\n",
              "       [ 0.34950661,  0.58567909,  0.91615208, -0.55392065, -0.71591931],\n",
              "       [-0.9996095 , -0.99972522,  0.07776863, -0.87858433, -0.51991104],\n",
              "       [-0.99941236, -0.99961243,  0.07764686, -0.85816986, -0.53408948],\n",
              "       [-0.99900111, -0.99932936,  0.07736239, -0.80987373, -0.54108498],\n",
              "       [-0.99903613, -0.99944072,  0.0774002 , -0.82528366, -0.58735909],\n",
              "       [-0.99865334, -0.99912034,  0.07716685, -0.77627523, -0.53754642],\n",
              "       [-0.42986358,  0.86654897, -0.925718  , -0.73862815, -0.58674809],\n",
              "       [-0.42826609,  0.8738673 , -0.929425  , -0.83386636, -0.57230481],\n",
              "       [-0.4292864 ,  0.86711   , -0.92616079, -0.67992738, -0.58893727],\n",
              "       [-0.99891246, -0.99935218,  0.07730719, -0.81056136, -0.58817068],\n",
              "       [-0.99943724, -0.99960331,  0.07761935, -0.84897875, -0.57251576],\n",
              "       [-0.43294759,  0.86021519, -0.92189498, -0.87279564, -0.59891923],\n",
              "       [-0.99916459, -0.99946953,  0.07745698, -0.82671955, -0.58793255],\n",
              "       [-0.99341325, -0.99601417,  0.07387947, -0.24695737, -0.73035246],\n",
              "       [-0.99991548, -0.99993058,  0.07794216, -0.90504651, -0.56418312],\n",
              "       [-0.99922291, -0.99953394,  0.07750004, -0.83864938, -0.5907458 ],\n",
              "       [-0.43169009,  0.8646533 , -0.92421266, -0.89228919, -0.52078182],\n",
              "       [-0.99880664, -0.99928854,  0.07727578, -0.80952183, -0.5345482 ],\n",
              "       [-0.42616344,  0.88033088, -0.93295403, -0.82686517, -0.55077716],\n",
              "       [-0.43139955,  0.86308588, -0.92365803, -0.79283965, -0.56396112],\n",
              "       [-0.42911949,  0.86960978, -0.92732509, -0.76203901, -0.59011644],\n",
              "       [-0.43195732,  0.86474019, -0.92418549, -0.92918364, -0.59731155],\n",
              "       [ 0.88467977, -0.95414347, -0.66293153, -0.82036316, -0.59800758],\n",
              "       [ 0.88789478, -0.95460466, -0.66579754, -0.74234352, -0.64920965],\n",
              "       [-0.99902527, -0.99935633,  0.07734482, -0.80286049, -0.61041081],\n",
              "       [ 0.91931151, -0.94505739, -0.67409081, -0.63394305, -0.62119434],\n",
              "       [-0.43082934,  0.86509194, -0.92477223, -0.78937098, -0.60215747],\n",
              "       [ 0.34116539,  0.5652242 ,  0.93031814, -0.91565387, -0.59557556],\n",
              "       [-0.42622734,  0.88083524, -0.93317473, -0.86019392, -0.57646517],\n",
              "       [-0.99827896, -0.99902924,  0.07692876, -0.75539493, -0.62698962],\n",
              "       [-0.99820057, -0.99867978,  0.07680484, -0.70805718, -0.47476004],\n",
              "       [-0.43178015,  0.86266855, -0.92335757, -0.83674549, -0.5820067 ],\n",
              "       [-0.42298067,  0.88630865, -0.93661218, -0.64944313, -0.39193538],\n",
              "       [ 0.90999432, -0.94429141, -0.6746157 , -0.80518637, -0.53296538],\n",
              "       [-0.99909734, -0.99933762,  0.07749262, -0.83351171, -0.393053  ],\n",
              "       [ 0.35152705,  0.5794319 ,  0.91806358, -0.00923369, -0.75412351],\n",
              "       [ 0.34399902,  0.57339474,  0.92616223, -0.91269157, -0.51149302],\n",
              "       [-0.42905645,  0.86662382, -0.92592506, -0.65770698, -0.38264457],\n",
              "       [ 0.88005236, -0.9599969 , -0.66609191, -0.8764421 , -0.58517572],\n",
              "       [-0.99793345, -0.99872791,  0.07670388, -0.71240287, -0.56441582],\n",
              "       [ 0.91213483, -0.91733005, -0.65528741, -0.67448585, -0.51199249],\n",
              "       [ 0.88551226, -0.94868142, -0.66252618, -0.90843762, -0.59915173],\n",
              "       [ 0.89150504, -0.94960047, -0.67068894,  0.15565222, -0.84421124],\n",
              "       [ 0.88909834, -0.94318762, -0.67148287, -0.84064276, -0.60912642],\n",
              "       [ 0.90255888, -0.92328057, -0.67519978, -0.57106936, -0.66341163],\n",
              "       [ 0.8976049 , -0.94774689, -0.66648593, -0.65464116, -0.52345396],\n",
              "       [-0.43030625,  0.86671232, -0.92539398, -0.82285501, -0.16938372],\n",
              "       [-0.42585346,  0.86764478, -0.9275629 , -0.32038269, -0.50555058],\n",
              "       [-0.43160184,  0.86429225, -0.92408762, -0.85714772, -0.54078138],\n",
              "       [ 0.34190452,  0.57019409,  0.9243911 , -0.8128156 , -0.58818964],\n",
              "       [ 0.89132992, -0.9483933 , -0.65619896, -0.88958426, -0.54497086],\n",
              "       [ 0.890744  , -0.95340342, -0.66924037, -0.79894801, -0.56738322],\n",
              "       [ 0.91361551, -0.94972251, -0.67585399, -0.50145697, -0.1911723 ],\n",
              "       [ 0.88935183, -0.94313315, -0.66904492, -0.79169152, -0.54132759],\n",
              "       [ 0.34476283,  0.57803763,  0.92061164, -0.80268017, -0.32524356],\n",
              "       [ 0.88926914, -0.95421273, -0.66842321, -0.68806207, -0.60578623],\n",
              "       [ 0.89505106, -0.9451298 , -0.67363669, -0.69723999, -0.66076491],\n",
              "       [ 0.362334  ,  0.59572753,  0.93213198, -0.72362975, -0.59988639],\n",
              "       [-0.4288074 ,  0.86967951, -0.92739944, -0.74532187, -0.46450815],\n",
              "       [ 0.88718043, -0.95091359, -0.65983102, -0.8940726 , -0.53211548],\n",
              "       [-0.99846294, -0.99900932,  0.07703519, -0.7582664 , -0.54351981],\n",
              "       [ 0.34178597,  0.56585585,  0.92943783, -0.85569345, -0.56113033],\n",
              "       [ 0.88296536, -0.95481506, -0.66270552, -0.78421127, -0.61179041],\n",
              "       [ 0.88426395, -0.95297205, -0.6626738 , -0.65294941, -0.46763447],\n",
              "       [-0.99590417, -0.99728851,  0.07527463, -0.45478035, -0.64937587],\n",
              "       [ 0.34028029,  0.56005082,  0.93145617, -0.76996587, -0.55614608],\n",
              "       [ 0.88938047, -0.95010936, -0.66373879, -0.80909527, -0.45277393],\n",
              "       [-0.99688379, -0.99798169,  0.07591516, -0.57297135, -0.64869519],\n",
              "       [ 0.90560361, -0.9344575 , -0.65804998, -0.7947352 , -0.58626245],\n",
              "       [ 0.3407186 ,  0.5649425 ,  0.92917793, -0.88543543, -0.45824451],\n",
              "       [ 0.34652975,  0.56915775,  0.93002691, -0.5463081 , -0.61838199],\n",
              "       [ 0.34864817,  0.58382871,  0.91784001, -0.62395809, -0.67006945],\n",
              "       [-0.4268417 ,  0.87348543, -0.92980882, -0.61323903, -0.53234345],\n",
              "       [ 0.93378275, -0.85174182, -0.70941954,  0.05491566, -0.27530413],\n",
              "       [ 0.34210266,  0.56613037,  0.92717996, -0.69534422, -0.62937982],\n",
              "       [ 0.3507178 ,  0.57835822,  0.93047705, -0.73815929, -0.53465596],\n",
              "       [ 0.35258416,  0.58849015,  0.92018786, -0.62128929, -0.58711745],\n",
              "       [ 0.92789668, -0.90635417, -0.64723127, -0.61636877, -0.534791  ],\n",
              "       [-0.43018391,  0.86569257, -0.92522163, -0.72360566, -0.50565552],\n",
              "       [ 0.3490436 ,  0.5855566 ,  0.91734464, -0.60993714, -0.58527924],\n",
              "       [ 0.34434515,  0.56629373,  0.93026591, -0.6060978 , -0.64930218],\n",
              "       [ 0.88125135, -0.95437964, -0.66664384, -0.78187561, -0.64345757]])"
            ]
          },
          "metadata": {
            "tags": []
          },
          "execution_count": 625
        }
      ]
    },
    {
      "cell_type": "code",
      "metadata": {
        "id": "se52Mzn7G538",
        "colab_type": "code",
        "colab": {}
      },
      "source": [
        "y_label=np.append(np.zeros(shape=(1,50)),np.ones(shape=(1,50)))"
      ],
      "execution_count": 0,
      "outputs": []
    },
    {
      "cell_type": "code",
      "metadata": {
        "id": "q3nXss0-_qms",
        "colab_type": "code",
        "colab": {
          "base_uri": "https://localhost:8080/",
          "height": 119
        },
        "outputId": "f788ee2a-d5f7-4446-8215-4e6a88bab1dc"
      },
      "source": [
        "y_label"
      ],
      "execution_count": 627,
      "outputs": [
        {
          "output_type": "execute_result",
          "data": {
            "text/plain": [
              "array([0., 0., 0., 0., 0., 0., 0., 0., 0., 0., 0., 0., 0., 0., 0., 0., 0.,\n",
              "       0., 0., 0., 0., 0., 0., 0., 0., 0., 0., 0., 0., 0., 0., 0., 0., 0.,\n",
              "       0., 0., 0., 0., 0., 0., 0., 0., 0., 0., 0., 0., 0., 0., 0., 0., 1.,\n",
              "       1., 1., 1., 1., 1., 1., 1., 1., 1., 1., 1., 1., 1., 1., 1., 1., 1.,\n",
              "       1., 1., 1., 1., 1., 1., 1., 1., 1., 1., 1., 1., 1., 1., 1., 1., 1.,\n",
              "       1., 1., 1., 1., 1., 1., 1., 1., 1., 1., 1., 1., 1., 1., 1.])"
            ]
          },
          "metadata": {
            "tags": []
          },
          "execution_count": 627
        }
      ]
    },
    {
      "cell_type": "code",
      "metadata": {
        "id": "zVuYipjeFNJC",
        "colab_type": "code",
        "colab": {}
      },
      "source": [
        "y_test=np.copy(y_label)"
      ],
      "execution_count": 0,
      "outputs": []
    },
    {
      "cell_type": "code",
      "metadata": {
        "id": "eHvaM5Pb_7uu",
        "colab_type": "code",
        "colab": {}
      },
      "source": [
        "unique, counts = np.unique(y_label, return_counts=True)"
      ],
      "execution_count": 0,
      "outputs": []
    },
    {
      "cell_type": "code",
      "metadata": {
        "id": "WxZNhBtUwIpM",
        "colab_type": "code",
        "colab": {
          "base_uri": "https://localhost:8080/",
          "height": 34
        },
        "outputId": "31da877b-44df-4d4a-ae5d-ae58ddb8de20"
      },
      "source": [
        "print (unique,counts)"
      ],
      "execution_count": 530,
      "outputs": [
        {
          "output_type": "stream",
          "text": [
            "[0. 1.] [50 50]\n"
          ],
          "name": "stdout"
        }
      ]
    },
    {
      "cell_type": "code",
      "metadata": {
        "id": "QiXvAkiWAfax",
        "colab_type": "code",
        "colab": {}
      },
      "source": [
        "#Feature Engineering Using pandas\n",
        "df0=pd.DataFrame(train_data[()]['0'])\n",
        "df1=pd.DataFrame(train_data[()]['1'])"
      ],
      "execution_count": 0,
      "outputs": []
    },
    {
      "cell_type": "code",
      "metadata": {
        "id": "2_T-VcRYD58L",
        "colab_type": "code",
        "colab": {}
      },
      "source": [
        "df0['output']=0\n",
        "df1['output']=1"
      ],
      "execution_count": 0,
      "outputs": []
    },
    {
      "cell_type": "code",
      "metadata": {
        "id": "EUuNMpAkEB7i",
        "colab_type": "code",
        "colab": {}
      },
      "source": [
        "df=df0.append(df1)"
      ],
      "execution_count": 0,
      "outputs": []
    },
    {
      "cell_type": "code",
      "metadata": {
        "id": "9j--wXOXLM4a",
        "colab_type": "code",
        "colab": {
          "base_uri": "https://localhost:8080/",
          "height": 596
        },
        "outputId": "de68cd68-a292-4c42-9322-96d754dcb555"
      },
      "source": [
        "plt.subplots(figsize=(10, 10))\n",
        "sns.heatmap(df.corr(),annot=True, cmap=\"YlGnBu\", square=True)\n"
      ],
      "execution_count": 757,
      "outputs": [
        {
          "output_type": "execute_result",
          "data": {
            "text/plain": [
              "<matplotlib.axes._subplots.AxesSubplot at 0x7f983f252128>"
            ]
          },
          "metadata": {
            "tags": []
          },
          "execution_count": 757
        },
        {
          "output_type": "display_data",
          "data": {
            "image/png": "[encoded data removed]",
            "text/plain": [
              "<Figure size 720x720 with 2 Axes>"
            ]
          },
          "metadata": {
            "tags": []
          }
        }
      ]
    },
    {
      "cell_type": "code",
      "metadata": {
        "id": "I5ReuznPSf6B",
        "colab_type": "code",
        "colab": {
          "base_uri": "https://localhost:8080/",
          "height": 726
        },
        "outputId": "d8b8c8e2-1e3b-409a-a4e4-629c848752af"
      },
      "source": [
        "df.hist(figsize=(10,10),color='mediumpurple')"
      ],
      "execution_count": 758,
      "outputs": [
        {
          "output_type": "execute_result",
          "data": {
            "text/plain": [
              "array([[<matplotlib.axes._subplots.AxesSubplot object at 0x7f9840c8c080>,\n",
              "        <matplotlib.axes._subplots.AxesSubplot object at 0x7f983f1c8ba8>],\n",
              "       [<matplotlib.axes._subplots.AxesSubplot object at 0x7f983f188198>,\n",
              "        <matplotlib.axes._subplots.AxesSubplot object at 0x7f983f135748>],\n",
              "       [<matplotlib.axes._subplots.AxesSubplot object at 0x7f983f0e8cf8>,\n",
              "        <matplotlib.axes._subplots.AxesSubplot object at 0x7f983f0a62e8>]],\n",
              "      dtype=object)"
            ]
          },
          "metadata": {
            "tags": []
          },
          "execution_count": 758
        },
        {
          "output_type": "display_data",
          "data": {
            "image/png": "[encoded data removed]",
            "text/plain": [
              "<Figure size 720x720 with 6 Axes>"
            ]
          },
          "metadata": {
            "tags": []
          }
        }
      ]
    },
    {
      "cell_type": "code",
      "metadata": {
        "id": "z-KVQ8vvwYhx",
        "colab_type": "code",
        "colab": {}
      },
      "source": [
        "#Shuffling the Data\n",
        "X, y_label = shuffle(X, y_label, random_state=0)"
      ],
      "execution_count": 0,
      "outputs": []
    },
    {
      "cell_type": "code",
      "metadata": {
        "id": "BDCWejptFh41",
        "colab_type": "code",
        "colab": {}
      },
      "source": [
        "# X = preprocessing.normalize(X)\n",
        "# Not a good idea\n",
        "# X = preprocessing.scale(X)"
      ],
      "execution_count": 0,
      "outputs": []
    },
    {
      "cell_type": "markdown",
      "metadata": {
        "id": "vygfWx1m0P-D",
        "colab_type": "text"
      },
      "source": [
        "# Baseline Logistic Regression"
      ]
    },
    {
      "cell_type": "code",
      "metadata": {
        "id": "v7IuyED8xEEV",
        "colab_type": "code",
        "colab": {}
      },
      "source": [
        "#1. Logistic reg\n",
        "clf = LogisticRegression(random_state=0, class_weight='balanced', solver='lbfgs')\n"
      ],
      "execution_count": 0,
      "outputs": []
    },
    {
      "cell_type": "code",
      "metadata": {
        "id": "7scWaYtExNo7",
        "colab_type": "code",
        "colab": {}
      },
      "source": [
        "logreg = clf.fit(X, y_label)"
      ],
      "execution_count": 0,
      "outputs": []
    },
    {
      "cell_type": "code",
      "metadata": {
        "id": "GdJOWIsJxPUg",
        "colab_type": "code",
        "colab": {}
      },
      "source": [
        "y_pred = logreg.predict(X_test)"
      ],
      "execution_count": 0,
      "outputs": []
    },
    {
      "cell_type": "code",
      "metadata": {
        "id": "8XM6W9OpxS7n",
        "colab_type": "code",
        "colab": {
          "base_uri": "https://localhost:8080/",
          "height": 119
        },
        "outputId": "c1ee0582-413a-4d7d-bb5a-af4437861801"
      },
      "source": [
        "y_pred"
      ],
      "execution_count": 695,
      "outputs": [
        {
          "output_type": "execute_result",
          "data": {
            "text/plain": [
              "array([0., 1., 1., 0., 0., 0., 1., 0., 0., 0., 0., 0., 0., 0., 0., 1., 0.,\n",
              "       0., 0., 1., 0., 0., 0., 0., 0., 0., 0., 0., 0., 0., 0., 0., 1., 0.,\n",
              "       1., 0., 0., 0., 0., 0., 0., 0., 0., 0., 1., 0., 0., 0., 0., 1., 1.,\n",
              "       0., 1., 0., 1., 0., 1., 1., 1., 1., 0., 0., 0., 1., 1., 0., 0., 1.,\n",
              "       1., 0., 1., 1., 1., 1., 0., 1., 1., 0., 0., 0., 1., 0., 1., 0., 0.,\n",
              "       0., 1., 1., 1., 1., 1., 1., 1., 1., 0., 0., 1., 1., 1., 1.])"
            ]
          },
          "metadata": {
            "tags": []
          },
          "execution_count": 695
        }
      ]
    },
    {
      "cell_type": "code",
      "metadata": {
        "id": "cfIfvEG7x0GS",
        "colab_type": "code",
        "colab": {
          "base_uri": "https://localhost:8080/",
          "height": 34
        },
        "outputId": "d3020dbe-cdfa-4a9c-e74a-ec611d0cfc81"
      },
      "source": [
        "auc = metrics.roc_auc_score(y_test, y_pred)\n",
        "print('AUC: %.3f' % auc)"
      ],
      "execution_count": 696,
      "outputs": [
        {
          "output_type": "stream",
          "text": [
            "AUC: 0.720\n"
          ],
          "name": "stdout"
        }
      ]
    },
    {
      "cell_type": "markdown",
      "metadata": {
        "id": "N8-Py5qZ0KPu",
        "colab_type": "text"
      },
      "source": [
        "# Models\n"
      ]
    },
    {
      "cell_type": "code",
      "metadata": {
        "id": "mGuTP-f40j8K",
        "colab_type": "code",
        "colab": {}
      },
      "source": [
        "#2. Decision Tree\n",
        "dectree =  DecisionTreeClassifier(random_state=0,max_depth=2, min_samples_leaf=5)"
      ],
      "execution_count": 0,
      "outputs": []
    },
    {
      "cell_type": "code",
      "metadata": {
        "id": "4oNBj4am1cVX",
        "colab_type": "code",
        "colab": {
          "base_uri": "https://localhost:8080/",
          "height": 119
        },
        "outputId": "70b8c247-f8d9-40e9-cdc9-267b01ca5c43"
      },
      "source": [
        "dectree.fit(X,y_label)"
      ],
      "execution_count": 698,
      "outputs": [
        {
          "output_type": "execute_result",
          "data": {
            "text/plain": [
              "DecisionTreeClassifier(ccp_alpha=0.0, class_weight=None, criterion='gini',\n",
              "                       max_depth=2, max_features=None, max_leaf_nodes=None,\n",
              "                       min_impurity_decrease=0.0, min_impurity_split=None,\n",
              "                       min_samples_leaf=5, min_samples_split=2,\n",
              "                       min_weight_fraction_leaf=0.0, presort='deprecated',\n",
              "                       random_state=0, splitter='best')"
            ]
          },
          "metadata": {
            "tags": []
          },
          "execution_count": 698
        }
      ]
    },
    {
      "cell_type": "code",
      "metadata": {
        "id": "k2Ge3OnS1gNL",
        "colab_type": "code",
        "colab": {}
      },
      "source": [
        "y_pred_dt = dectree.predict(X_test)"
      ],
      "execution_count": 0,
      "outputs": []
    },
    {
      "cell_type": "code",
      "metadata": {
        "id": "UySTCjxi1k4K",
        "colab_type": "code",
        "colab": {
          "base_uri": "https://localhost:8080/",
          "height": 119
        },
        "outputId": "82e7b8e0-5954-42ba-d0bf-6c9f4740a8b8"
      },
      "source": [
        "y_pred_dt"
      ],
      "execution_count": 700,
      "outputs": [
        {
          "output_type": "execute_result",
          "data": {
            "text/plain": [
              "array([0., 0., 1., 0., 1., 0., 1., 0., 0., 0., 0., 0., 1., 0., 0., 1., 0.,\n",
              "       0., 0., 1., 0., 0., 0., 0., 0., 0., 0., 0., 0., 0., 0., 0., 1., 0.,\n",
              "       1., 0., 0., 0., 0., 0., 0., 0., 0., 0., 1., 0., 0., 0., 0., 1., 1.,\n",
              "       0., 1., 0., 1., 0., 1., 1., 1., 1., 0., 0., 0., 1., 1., 0., 0., 1.,\n",
              "       1., 0., 1., 1., 1., 1., 0., 1., 1., 0., 0., 1., 1., 0., 1., 0., 0.,\n",
              "       0., 1., 1., 1., 1., 1., 1., 1., 1., 0., 0., 1., 1., 1., 1.])"
            ]
          },
          "metadata": {
            "tags": []
          },
          "execution_count": 700
        }
      ]
    },
    {
      "cell_type": "code",
      "metadata": {
        "id": "Sdq9fMlK1neT",
        "colab_type": "code",
        "colab": {
          "base_uri": "https://localhost:8080/",
          "height": 34
        },
        "outputId": "48e03e5c-844d-4999-c57b-4a3260a10b1b"
      },
      "source": [
        "auc = metrics.roc_auc_score(y_test, y_pred_dt)\n",
        "print('AUC: %.3f' % auc)"
      ],
      "execution_count": 701,
      "outputs": [
        {
          "output_type": "stream",
          "text": [
            "AUC: 0.720\n"
          ],
          "name": "stdout"
        }
      ]
    },
    {
      "cell_type": "code",
      "metadata": {
        "id": "dZE4LA2E1rbh",
        "colab_type": "code",
        "colab": {}
      },
      "source": [
        "#3. Random forest"
      ],
      "execution_count": 0,
      "outputs": []
    },
    {
      "cell_type": "code",
      "metadata": {
        "id": "v_OqmyWM2AW-",
        "colab_type": "code",
        "colab": {
          "base_uri": "https://localhost:8080/",
          "height": 153
        },
        "outputId": "6707cea2-269d-4b45-ccd3-c7a5cbee9df0"
      },
      "source": [
        "ranfor = RandomForestClassifier(max_depth=2, random_state=0, n_estimators=100,\n",
        "                                oob_score=True, min_samples_leaf=5, n_jobs=100)\n",
        "ranfor.fit(X, y_label)"
      ],
      "execution_count": 703,
      "outputs": [
        {
          "output_type": "execute_result",
          "data": {
            "text/plain": [
              "RandomForestClassifier(bootstrap=True, ccp_alpha=0.0, class_weight=None,\n",
              "                       criterion='gini', max_depth=2, max_features='auto',\n",
              "                       max_leaf_nodes=None, max_samples=None,\n",
              "                       min_impurity_decrease=0.0, min_impurity_split=None,\n",
              "                       min_samples_leaf=5, min_samples_split=2,\n",
              "                       min_weight_fraction_leaf=0.0, n_estimators=100,\n",
              "                       n_jobs=100, oob_score=True, random_state=0, verbose=0,\n",
              "                       warm_start=False)"
            ]
          },
          "metadata": {
            "tags": []
          },
          "execution_count": 703
        }
      ]
    },
    {
      "cell_type": "code",
      "metadata": {
        "id": "Qu7SswY42Atv",
        "colab_type": "code",
        "colab": {}
      },
      "source": [
        "y_pred_rf = ranfor.predict(X_test)"
      ],
      "execution_count": 0,
      "outputs": []
    },
    {
      "cell_type": "code",
      "metadata": {
        "id": "axZpyLKr2V7j",
        "colab_type": "code",
        "colab": {
          "base_uri": "https://localhost:8080/",
          "height": 119
        },
        "outputId": "af8ebfb1-2a27-4e62-d899-73685a205c3c"
      },
      "source": [
        "y_pred_rf"
      ],
      "execution_count": 705,
      "outputs": [
        {
          "output_type": "execute_result",
          "data": {
            "text/plain": [
              "array([0., 0., 1., 0., 1., 0., 1., 0., 0., 0., 1., 0., 1., 0., 0., 1., 0.,\n",
              "       0., 0., 1., 0., 0., 0., 0., 0., 0., 1., 0., 0., 0., 0., 0., 1., 0.,\n",
              "       1., 0., 0., 0., 0., 0., 0., 0., 0., 1., 0., 0., 0., 1., 0., 1., 1.,\n",
              "       1., 1., 0., 1., 0., 1., 1., 1., 1., 0., 1., 0., 1., 1., 1., 0., 1.,\n",
              "       1., 0., 1., 1., 1., 1., 0., 1., 1., 1., 0., 1., 1., 1., 1., 0., 0.,\n",
              "       0., 1., 1., 1., 1., 1., 1., 1., 1., 1., 0., 1., 1., 1., 1.])"
            ]
          },
          "metadata": {
            "tags": []
          },
          "execution_count": 705
        }
      ]
    },
    {
      "cell_type": "code",
      "metadata": {
        "id": "GC6UQB172YSr",
        "colab_type": "code",
        "colab": {
          "base_uri": "https://localhost:8080/",
          "height": 34
        },
        "outputId": "61654717-f46e-4694-dc16-6006d7fec5a3"
      },
      "source": [
        "auc = metrics.roc_auc_score(y_test, y_pred_rf)\n",
        "print('AUC: %.3f' % auc)"
      ],
      "execution_count": 706,
      "outputs": [
        {
          "output_type": "stream",
          "text": [
            "AUC: 0.750\n"
          ],
          "name": "stdout"
        }
      ]
    },
    {
      "cell_type": "code",
      "metadata": {
        "id": "N9MlafHS2bbX",
        "colab_type": "code",
        "colab": {}
      },
      "source": [
        "#Slight increase in accuracy, with tweaking the parameters"
      ],
      "execution_count": 0,
      "outputs": []
    },
    {
      "cell_type": "code",
      "metadata": {
        "id": "OJtWi3lo2mu4",
        "colab_type": "code",
        "colab": {}
      },
      "source": [
        "#4. SGDClassifier"
      ],
      "execution_count": 0,
      "outputs": []
    },
    {
      "cell_type": "code",
      "metadata": {
        "id": "I6i0AWA-3CVu",
        "colab_type": "code",
        "colab": {
          "base_uri": "https://localhost:8080/",
          "height": 119
        },
        "outputId": "569b17ae-cb46-4076-cc40-e772c70d3200"
      },
      "source": [
        "sgdclass = SGDClassifier(loss='hinge',random_state=0)\n",
        "sgdclass.fit(X,y_label)"
      ],
      "execution_count": 709,
      "outputs": [
        {
          "output_type": "execute_result",
          "data": {
            "text/plain": [
              "SGDClassifier(alpha=0.0001, average=False, class_weight=None,\n",
              "              early_stopping=False, epsilon=0.1, eta0=0.0, fit_intercept=True,\n",
              "              l1_ratio=0.15, learning_rate='optimal', loss='hinge',\n",
              "              max_iter=1000, n_iter_no_change=5, n_jobs=None, penalty='l2',\n",
              "              power_t=0.5, random_state=0, shuffle=True, tol=0.001,\n",
              "              validation_fraction=0.1, verbose=0, warm_start=False)"
            ]
          },
          "metadata": {
            "tags": []
          },
          "execution_count": 709
        }
      ]
    },
    {
      "cell_type": "code",
      "metadata": {
        "id": "yowujmjs3QoO",
        "colab_type": "code",
        "colab": {}
      },
      "source": [
        "y_pred_sgdc = sgdclass.predict(X_test)"
      ],
      "execution_count": 0,
      "outputs": []
    },
    {
      "cell_type": "code",
      "metadata": {
        "id": "VvOZOg5t3a4u",
        "colab_type": "code",
        "colab": {
          "base_uri": "https://localhost:8080/",
          "height": 119
        },
        "outputId": "dd29a7a1-17a2-4a07-c284-2345778980a3"
      },
      "source": [
        "y_pred_sgdc"
      ],
      "execution_count": 711,
      "outputs": [
        {
          "output_type": "execute_result",
          "data": {
            "text/plain": [
              "array([0., 0., 0., 0., 0., 0., 1., 0., 0., 0., 0., 0., 1., 0., 0., 0., 0.,\n",
              "       0., 0., 0., 0., 0., 0., 0., 0., 0., 0., 0., 0., 0., 0., 0., 0., 0.,\n",
              "       0., 0., 0., 0., 0., 0., 0., 0., 0., 0., 0., 0., 0., 0., 0., 0., 0.,\n",
              "       0., 1., 0., 1., 0., 0., 0., 0., 0., 0., 0., 0., 0., 0., 0., 0., 0.,\n",
              "       0., 0., 1., 0., 1., 0., 0., 0., 1., 0., 0., 0., 1., 0., 0., 0., 0.,\n",
              "       0., 1., 0., 0., 0., 0., 1., 0., 1., 0., 0., 0., 0., 0., 0.])"
            ]
          },
          "metadata": {
            "tags": []
          },
          "execution_count": 711
        }
      ]
    },
    {
      "cell_type": "code",
      "metadata": {
        "id": "DCU0oZlm3dh7",
        "colab_type": "code",
        "colab": {
          "base_uri": "https://localhost:8080/",
          "height": 34
        },
        "outputId": "f8180b01-b915-4c58-f93a-c0af8f0d9f2f"
      },
      "source": [
        "auc = metrics.roc_auc_score(y_test, y_pred_sgdc)\n",
        "print('AUC: %.3f' % auc)"
      ],
      "execution_count": 712,
      "outputs": [
        {
          "output_type": "stream",
          "text": [
            "AUC: 0.570\n"
          ],
          "name": "stdout"
        }
      ]
    },
    {
      "cell_type": "code",
      "metadata": {
        "id": "TUl_eyKU3hnb",
        "colab_type": "code",
        "colab": {}
      },
      "source": [
        "#5. Support Vector Machine"
      ],
      "execution_count": 0,
      "outputs": []
    },
    {
      "cell_type": "code",
      "metadata": {
        "id": "2Qmqn8xR5TRD",
        "colab_type": "code",
        "colab": {
          "base_uri": "https://localhost:8080/",
          "height": 85
        },
        "outputId": "e8a6ee43-2489-4a18-ee28-24838dcf5cd1"
      },
      "source": [
        "svc = SVC(gamma='auto',kernel='sigmoid')\n",
        "svc.fit(X, y_label)"
      ],
      "execution_count": 714,
      "outputs": [
        {
          "output_type": "execute_result",
          "data": {
            "text/plain": [
              "SVC(C=1.0, break_ties=False, cache_size=200, class_weight=None, coef0=0.0,\n",
              "    decision_function_shape='ovr', degree=3, gamma='auto', kernel='sigmoid',\n",
              "    max_iter=-1, probability=False, random_state=None, shrinking=True,\n",
              "    tol=0.001, verbose=False)"
            ]
          },
          "metadata": {
            "tags": []
          },
          "execution_count": 714
        }
      ]
    },
    {
      "cell_type": "code",
      "metadata": {
        "id": "1LdTyO7F5ZWT",
        "colab_type": "code",
        "colab": {}
      },
      "source": [
        "y_pred_svc=svc.predict(X_test)"
      ],
      "execution_count": 0,
      "outputs": []
    },
    {
      "cell_type": "code",
      "metadata": {
        "id": "61S4nUjx5gwS",
        "colab_type": "code",
        "colab": {
          "base_uri": "https://localhost:8080/",
          "height": 119
        },
        "outputId": "65660498-18c4-40f4-bd28-9407433aba2c"
      },
      "source": [
        "y_pred_svc"
      ],
      "execution_count": 716,
      "outputs": [
        {
          "output_type": "execute_result",
          "data": {
            "text/plain": [
              "array([0., 1., 1., 0., 0., 0., 1., 0., 0., 0., 0., 0., 0., 0., 0., 1., 0.,\n",
              "       0., 0., 1., 0., 0., 0., 0., 0., 0., 0., 0., 0., 0., 0., 0., 1., 0.,\n",
              "       1., 0., 0., 0., 0., 0., 0., 0., 0., 0., 1., 0., 0., 0., 0., 1., 1.,\n",
              "       0., 1., 0., 1., 0., 1., 1., 1., 1., 0., 0., 0., 1., 1., 0., 0., 1.,\n",
              "       1., 0., 1., 1., 1., 1., 0., 1., 1., 0., 0., 0., 1., 0., 1., 0., 0.,\n",
              "       0., 1., 1., 1., 1., 1., 1., 1., 1., 0., 0., 1., 1., 1., 1.])"
            ]
          },
          "metadata": {
            "tags": []
          },
          "execution_count": 716
        }
      ]
    },
    {
      "cell_type": "code",
      "metadata": {
        "id": "s6OD0cwW5idE",
        "colab_type": "code",
        "colab": {
          "base_uri": "https://localhost:8080/",
          "height": 34
        },
        "outputId": "33779d91-ba94-46d8-e3a3-429fe34f113a"
      },
      "source": [
        "auc = metrics.roc_auc_score(y_test, y_pred_svc)\n",
        "print('AUC: %.3f' % auc)"
      ],
      "execution_count": 717,
      "outputs": [
        {
          "output_type": "stream",
          "text": [
            "AUC: 0.720\n"
          ],
          "name": "stdout"
        }
      ]
    },
    {
      "cell_type": "code",
      "metadata": {
        "id": "nbo99-Fv5lcw",
        "colab_type": "code",
        "colab": {
          "base_uri": "https://localhost:8080/",
          "height": 34
        },
        "outputId": "872b3d1d-3542-4ff9-aabd-08096aecc09b"
      },
      "source": [
        "#6. Naive Bayes' Classifier\n",
        "gnb = GaussianNB()\n",
        "gnb.fit(X,y_label)"
      ],
      "execution_count": 718,
      "outputs": [
        {
          "output_type": "execute_result",
          "data": {
            "text/plain": [
              "GaussianNB(priors=None, var_smoothing=1e-09)"
            ]
          },
          "metadata": {
            "tags": []
          },
          "execution_count": 718
        }
      ]
    },
    {
      "cell_type": "code",
      "metadata": {
        "id": "Ry5BDaxP9MVO",
        "colab_type": "code",
        "colab": {}
      },
      "source": [
        "y_pred_gnb= gnb.predict(X_test)"
      ],
      "execution_count": 0,
      "outputs": []
    },
    {
      "cell_type": "code",
      "metadata": {
        "id": "RUxCfzXS9R6X",
        "colab_type": "code",
        "colab": {
          "base_uri": "https://localhost:8080/",
          "height": 34
        },
        "outputId": "acaaa664-e386-43fb-eadc-c48d955043f5"
      },
      "source": [
        "auc = metrics.roc_auc_score(y_test, y_pred_gnb)\n",
        "print('AUC: %.3f' % auc)"
      ],
      "execution_count": 720,
      "outputs": [
        {
          "output_type": "stream",
          "text": [
            "AUC: 0.690\n"
          ],
          "name": "stdout"
        }
      ]
    },
    {
      "cell_type": "code",
      "metadata": {
        "id": "IVLl9OAB9Vu5",
        "colab_type": "code",
        "colab": {
          "base_uri": "https://localhost:8080/",
          "height": 136
        },
        "outputId": "32f76174-5550-48be-fb97-91b6fc571931"
      },
      "source": [
        "#7. XGBoost\n",
        "xgb = XGBClassifier(max_depth=2, booster='dart',shuffle=True,learning_rate=0.5,\n",
        "                    n_estimators=100)\n",
        "xgb.fit(X, y_label)"
      ],
      "execution_count": 721,
      "outputs": [
        {
          "output_type": "execute_result",
          "data": {
            "text/plain": [
              "XGBClassifier(base_score=0.5, booster='dart', colsample_bylevel=1,\n",
              "              colsample_bynode=1, colsample_bytree=1, gamma=0,\n",
              "              learning_rate=0.5, max_delta_step=0, max_depth=2,\n",
              "              min_child_weight=1, missing=None, n_estimators=100, n_jobs=1,\n",
              "              nthread=None, objective='binary:logistic', random_state=0,\n",
              "              reg_alpha=0, reg_lambda=1, scale_pos_weight=1, seed=None,\n",
              "              shuffle=True, silent=None, subsample=1, verbosity=1)"
            ]
          },
          "metadata": {
            "tags": []
          },
          "execution_count": 721
        }
      ]
    },
    {
      "cell_type": "code",
      "metadata": {
        "id": "SMcGCn0t-Gho",
        "colab_type": "code",
        "colab": {}
      },
      "source": [
        "y_pred_xgb= xgb.predict(X_test)"
      ],
      "execution_count": 0,
      "outputs": []
    },
    {
      "cell_type": "code",
      "metadata": {
        "id": "Cz7TwXJK-Ljy",
        "colab_type": "code",
        "colab": {
          "base_uri": "https://localhost:8080/",
          "height": 34
        },
        "outputId": "58854505-f9de-48fc-fc01-9d8c24921bf5"
      },
      "source": [
        "auc = metrics.roc_auc_score(y_test, y_pred_xgb)\n",
        "print('AUC: %.3f' % auc)"
      ],
      "execution_count": 723,
      "outputs": [
        {
          "output_type": "stream",
          "text": [
            "AUC: 0.710\n"
          ],
          "name": "stdout"
        }
      ]
    },
    {
      "cell_type": "code",
      "metadata": {
        "id": "yWCsjrXH-OOp",
        "colab_type": "code",
        "colab": {
          "base_uri": "https://localhost:8080/",
          "height": 51
        },
        "outputId": "5562e3df-f1c0-42ca-f053-a97aaf905d8f"
      },
      "source": [
        "# 8. AdaBoost\n",
        "clf = AdaBoostClassifier(n_estimators=100, random_state=0)\n",
        "clf.fit(X, y_label)"
      ],
      "execution_count": 724,
      "outputs": [
        {
          "output_type": "execute_result",
          "data": {
            "text/plain": [
              "AdaBoostClassifier(algorithm='SAMME.R', base_estimator=None, learning_rate=1.0,\n",
              "                   n_estimators=100, random_state=0)"
            ]
          },
          "metadata": {
            "tags": []
          },
          "execution_count": 724
        }
      ]
    },
    {
      "cell_type": "code",
      "metadata": {
        "id": "lhkXwd-qJIYH",
        "colab_type": "code",
        "colab": {}
      },
      "source": [
        "y_pred_ada = clf.predict(X_test)"
      ],
      "execution_count": 0,
      "outputs": []
    },
    {
      "cell_type": "code",
      "metadata": {
        "id": "w-2fk0WtJfIt",
        "colab_type": "code",
        "colab": {
          "base_uri": "https://localhost:8080/",
          "height": 34
        },
        "outputId": "970e1e57-72ad-4cee-b84b-2cfdc7cc38ae"
      },
      "source": [
        "auc = metrics.roc_auc_score(y_test, y_pred_ada)\n",
        "print('AUC: %.3f' % auc)"
      ],
      "execution_count": 726,
      "outputs": [
        {
          "output_type": "stream",
          "text": [
            "AUC: 0.660\n"
          ],
          "name": "stdout"
        }
      ]
    },
    {
      "cell_type": "code",
      "metadata": {
        "id": "u-Qr5T6VJiAv",
        "colab_type": "code",
        "colab": {}
      },
      "source": [
        ""
      ],
      "execution_count": 0,
      "outputs": []
    },
    {
      "cell_type": "markdown",
      "metadata": {
        "id": "UNv6o0J_Ntz5",
        "colab_type": "text"
      },
      "source": [
        "# Hypothesis testing\n"
      ]
    },
    {
      "cell_type": "code",
      "metadata": {
        "id": "r-wPUEVbNtVn",
        "colab_type": "code",
        "colab": {}
      },
      "source": [
        "#Testing the above models using only the 1,3 and 5th rows of the input.\n",
        "X_test=np.delete(X_test,1,1)"
      ],
      "execution_count": 0,
      "outputs": []
    },
    {
      "cell_type": "code",
      "metadata": {
        "id": "EhqGdrmlN8R7",
        "colab_type": "code",
        "colab": {}
      },
      "source": [
        "X"
      ],
      "execution_count": 0,
      "outputs": []
    },
    {
      "cell_type": "markdown",
      "metadata": {
        "id": "OmK_ijltPcoM",
        "colab_type": "text"
      },
      "source": [
        "# Conclusion."
      ]
    },
    {
      "cell_type": "markdown",
      "metadata": {
        "id": "H9pQpWcrPgUM",
        "colab_type": "text"
      },
      "source": [
        "I tried various Machine Learning classification Algorithms, and measured the accuracy using AUC.\n",
        "\n",
        "1) During my feature analysis I noticed the two features had small correlation with the actual output. I ran the same set of experiement by removing those two columns, to test my Hypothesis. Turns out the AUC score more or less remains the same.\n",
        "\n",
        "2) One factor that affected my models was the use of shuffle function to shuffle the input data.\n",
        "\n",
        "3) I tried normalise and scaling the data to standard scale but it yielded bad AUC results.\n",
        "\n",
        "4) Final scores of the algorithms I used are as follows (In the best runs):-\n",
        "\n",
        "a) Baseline Logistic Regression -  0.720   \n",
        "b) Decision Tree -  0.720  \n",
        "c) Random Forest -   0.750  \n",
        "d) SGDClassifier -   0.710  \n",
        "e) SVM Classifier - 0.720  \n",
        "f) Naive Bayes' Classifier - 0.690  \n",
        "g) XGBoost - 0.710  \n",
        "h) AdaBoost - 0.660  \n",
        "\n",
        "**Random Forest** yielded best results for me.\n",
        "\n",
        "5) I delibrately did not choose to use Neural Networks for this task as it does not work well with small data and might overfit the data.\n",
        "\n",
        "I hope this analysis helps, please feel free to contact me for any questions/concerns."
      ]
    }
  ]
}